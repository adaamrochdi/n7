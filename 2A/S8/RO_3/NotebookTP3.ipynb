{
 "cells": [
  {
   "cell_type": "markdown",
   "metadata": {},
   "source": [
    "# TP 3 : Programmation dynamique"
   ]
  },
  {
   "cell_type": "markdown",
   "metadata": {},
   "source": [
    "### 1) La programmation dynamique "
   ]
  },
  {
   "cell_type": "markdown",
   "metadata": {},
   "source": [
    "La programmation dynamique est une méthode de résolution des problèmes d'optimisation. Elle consiste à décomposer un problème complexe en sous-problèmes plus simples, résoudre ces sous-problèmes une seule fois et stocker leurs solutions. Les problèmes de programmation dynamique sont caractérisés par des relations de récurrence, qui expriment la solution d'un problème en fonction des solutions de ses sous-problèmes. Ces relations permettent de construire la solution étape par étape, en utilisant les solutions des sous-problèmes déjà résolus, ce qui rend l'approche efficace pour des problèmes où les sous-problèmes se répètent."
   ]
  },
  {
   "cell_type": "markdown",
   "metadata": {},
   "source": [
    "### Initialisation (à faire une seule fois)"
   ]
  },
  {
   "cell_type": "code",
   "execution_count": 1,
   "metadata": {},
   "outputs": [
    {
     "name": "stderr",
     "output_type": "stream",
     "text": [
      "\u001b[32m\u001b[1m    Updating\u001b[22m\u001b[39m registry at `C:\\Users\\adamr\\.julia\\registries\\General.toml`\n",
      "\u001b[32m\u001b[1m   Resolving\u001b[22m\u001b[39m package versions...\n",
      "\u001b[32m\u001b[1m  No Changes\u001b[22m\u001b[39m to `C:\\Users\\adamr\\.julia\\environments\\v1.11\\Project.toml`\n",
      "\u001b[32m\u001b[1m  No Changes\u001b[22m\u001b[39m to `C:\\Users\\adamr\\.julia\\environments\\v1.11\\Manifest.toml`\n",
      "\u001b[32m\u001b[1m   Resolving\u001b[22m\u001b[39m package versions...\n",
      "\u001b[32m\u001b[1m  No Changes\u001b[22m\u001b[39m to `C:\\Users\\adamr\\.julia\\environments\\v1.11\\Project.toml`\n",
      "\u001b[32m\u001b[1m  No Changes\u001b[22m\u001b[39m to `C:\\Users\\adamr\\.julia\\environments\\v1.11\\Manifest.toml`\n"
     ]
    }
   ],
   "source": [
    "DISPLAY_TREE = true\n",
    "if DISPLAY_TREE\n",
    "    import Pkg; \n",
    "    Pkg.add(\"GraphRecipes\"); Pkg.add(\"Plots\"); \n",
    "    using GraphRecipes, Plots #only used to visualize the search tree at the end of the branch-and-bound\n",
    "end"
   ]
  },
  {
   "cell_type": "markdown",
   "metadata": {},
   "source": [
    "### Récupération des données"
   ]
  },
  {
   "cell_type": "code",
   "execution_count": 2,
   "metadata": {},
   "outputs": [
    {
     "data": {
      "text/plain": [
       "knapsack_dynamique (generic function with 1 method)"
      ]
     },
     "execution_count": 2,
     "metadata": {},
     "output_type": "execute_result"
    }
   ],
   "source": [
    "function knapsack_dynamique(price, weight, capacity)\n",
    "    \n",
    "    n = length(price)\n",
    "    C = fill(0, (0:length(price), 0:capacity))\n",
    "\n",
    "    for i in 1:n\n",
    "        for j in 1:capacity\n",
    "            #Initialisation\n",
    "            if j==0\n",
    "                C[i,0]=0\n",
    "            #si le poids de i est plus grand que la capacité ,on l'ajoute pas et du coup la valeur max ne change pas\n",
    "            elseif weight[i] > j\n",
    "                C[i,j] = C[i-1,j]\n",
    "            #si le poids de i et moins grand que la capacité, on choisit la bonne décision entre l'ajouter et ne pas ajouter\n",
    "            else \n",
    "                C[i, j] = max(C[i-1, j], C[i-1, j-weight[i]] + price[i])\n",
    "            end\n",
    "        end\n",
    "    end\n",
    "\n",
    "    w = capacity\n",
    "    items_taken = zeros(n)\n",
    "    for i in n:-1:1\n",
    "        if i == 1 && C[i,w]!= 0\n",
    "            items_taken[i] = 1\n",
    "        else\n",
    "            if C[i-1, w] != C[i, w]\n",
    "                items_taken[i] = 1\n",
    "                w -= weight[i]\n",
    "            end\n",
    "        end\n",
    "    end\n",
    "    \n",
    "\n",
    "    max_value = C[n, capacity]\n",
    "    return max_value, items_taken\n",
    "end\n",
    "\n"
   ]
  },
  {
   "cell_type": "code",
   "execution_count": 3,
   "metadata": {},
   "outputs": [
    {
     "data": {
      "text/plain": [
       "(65, [0.0, 1.0, 0.0, 1.0])"
      ]
     },
     "execution_count": 3,
     "metadata": {},
     "output_type": "execute_result"
    }
   ],
   "source": [
    "price = [42, 40, 12, 25]\n",
    "weight = [7, 4, 3, 5]\n",
    "capacity = 10\n",
    "\n",
    "knapsack_dynamique(price, weight, capacity)"
   ]
  },
  {
   "cell_type": "markdown",
   "metadata": {},
   "source": [
    "### 3) L’adéquation du résultat avec l’instance résolue\n",
    "\n",
    "Dans cet exemple, nous avons un problème de sac à dos avec les suivantes données :\n",
    "\n",
    "L'algorithme de programmation dynamique a trouvé une solution optimale qui maximise la valeur totale des objets à placer dans le sac, tout en respectant la capacité maximale. Le résultat obtenu est (65, [0.0, 1.0, 0.0, 1.0]).\n",
    "Ce qui correspond à ce qu'on a trouvé théoriquement."
   ]
  },
  {
   "cell_type": "markdown",
   "metadata": {},
   "source": [
    "### 4)  Le fonctionnement de  l'algorithme\n",
    "\n",
    "Notre algorithme résout le problème du sac à dos en utilisant la programmation dynamique. Il construit un tableau bidimensionnel où chaque cellule représente la valeur maximale possible avec un certain nombre d'objets et une capacité donnée. Pour chaque objet, l'algorithme décide s'il doit être inclus en se basant sur la capacité restante et le gain en valeur. Après avoir traité tous les objets, il retourne la valeur maximale atteignable sans excéder la capacité. De plus, il retrace le tableau pour déterminer quels objets constituent cette valeur optimale, permettant de comprendre les choix faits à chaque étape."
   ]
  },
  {
   "cell_type": "markdown",
   "metadata": {},
   "source": [
    "### 5) Tests de l’algorithme"
   ]
  },
  {
   "cell_type": "markdown",
   "metadata": {},
   "source": [
    "#### J'ai pas terminé cette question"
   ]
  },
  {
   "cell_type": "markdown",
   "metadata": {},
   "source": [
    "#### Récupération des données"
   ]
  },
  {
   "cell_type": "code",
   "execution_count": 4,
   "metadata": {},
   "outputs": [
    {
     "data": {
      "text/plain": [
       "readKnaptxtInstance (generic function with 1 method)"
      ]
     },
     "execution_count": 4,
     "metadata": {},
     "output_type": "execute_result"
    }
   ],
   "source": [
    "function readKnaptxtInstance(filename)\n",
    "    price=Int64[]\n",
    "    weight=Int64[]\n",
    "    KnapCap=Int64[]\n",
    "    open(filename) do f\n",
    "        for i in 1:3\n",
    "            tok = split(readline(f))\n",
    "            if(tok[1] == \"ListPrices=\")\n",
    "                for i in 2:(length(tok)-1)\n",
    "                    push!(price,parse(Int64, tok[i]))\n",
    "                end\n",
    "            elseif(tok[1] == \"ListWeights=\")\n",
    "                for i in 2:(length(tok)-1)\n",
    "                    push!(weight,parse(Int64, tok[i]))\n",
    "                end\n",
    "            elseif(tok[1] == \"Capacity=\")\n",
    "                push!(KnapCap, parse(Int64, tok[2]))\n",
    "            else\n",
    "                println(\"Unknown read :\", tok)\n",
    "            end\n",
    "        end\n",
    "    end\n",
    "    capacity=KnapCap[1]\n",
    "    return price, weight, capacity\n",
    "end"
   ]
  },
  {
   "cell_type": "code",
   "execution_count": 5,
   "metadata": {},
   "outputs": [
    {
     "data": {
      "text/plain": [
       "solveKnapInstance_Dynamique (generic function with 1 method)"
      ]
     },
     "execution_count": 5,
     "metadata": {},
     "output_type": "execute_result"
    }
   ],
   "source": [
    "function solveKnapInstance_Dynamique(filename) \n",
    "    price, weight, capacity = readKnaptxtInstance(filename)\n",
    "    return knapsack_dynamique(price, weight, capacity)\n",
    "    \n",
    "end"
   ]
  }
 ],
 "metadata": {
  "kernelspec": {
   "display_name": "Julia 1.11.2",
   "language": "julia",
   "name": "julia-1.11"
  },
  "language_info": {
   "file_extension": ".jl",
   "mimetype": "application/julia",
   "name": "julia",
   "version": "1.11.2"
  }
 },
 "nbformat": 4,
 "nbformat_minor": 4
}
